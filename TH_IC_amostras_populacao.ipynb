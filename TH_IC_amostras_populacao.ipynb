{
  "nbformat": 4,
  "nbformat_minor": 0,
  "metadata": {
    "colab": {
      "provenance": []
    },
    "kernelspec": {
      "name": "python3",
      "display_name": "Python 3"
    },
    "language_info": {
      "name": "python"
    }
  },
  "cells": [
    {
      "cell_type": "markdown",
      "source": [
        "Para este desafio, temos um dataset contendo dados sobre a reformulação de um site de vendas, com amostras coletadas antes e após as atualizações.\n",
        "\n",
        "Um grupo de controle - Eles viram o design antigo\n",
        "\n",
        "Um grupo de tratamento (ou experimental) - Eles viram o novo design\n",
        "\n",
        "0 - O usuário não comprou o produto durante esta sessão de usuário\n",
        "\n",
        "1 - O usuário comprou o produto durante esta sessão de usuário\n",
        "\n",
        "Vamos formular nossas hipóteses:\n",
        "\n",
        "## Hₒ: p = pₒ - as proporções populacionais são iguais.\n",
        "\n",
        "## Hₐ: p ≠ pₒ - as proporções populacioneis são diferentes\n",
        "\n",
        "## Também definiremos um nível de confiança de 95%"
      ],
      "metadata": {
        "id": "Tptu5q5durge"
      }
    },
    {
      "cell_type": "markdown",
      "source": [
        "# Carregando as bibliotecas necessárias"
      ],
      "metadata": {
        "id": "7TwIAqdrsYMT"
      }
    },
    {
      "cell_type": "code",
      "source": [
        "import pandas as pd\n",
        "import numpy as np\n",
        "import scipy.stats as st\n",
        "import statsmodels.stats.api as sms\n",
        "from math import ceil"
      ],
      "metadata": {
        "id": "Vs7aEqzrYWof"
      },
      "execution_count": null,
      "outputs": []
    },
    {
      "cell_type": "markdown",
      "source": [
        "# Carregando os dados do dataframe"
      ],
      "metadata": {
        "id": "RAcg2Y2TsgtU"
      }
    },
    {
      "cell_type": "code",
      "source": [
        "df = pd.read_csv('/content/drive/MyDrive/EBA/Datasets/df_test.csv')\n",
        "df.head()"
      ],
      "metadata": {
        "colab": {
          "base_uri": "https://localhost:8080/",
          "height": 206
        },
        "id": "N4xZQqAWYtan",
        "outputId": "30af69a5-faf6-42fe-8d5b-f8cac2713def"
      },
      "execution_count": null,
      "outputs": [
        {
          "output_type": "execute_result",
          "data": {
            "text/plain": [
              "   Unnamed: 0  user_id                   timestamp landing_page  converted  \\\n",
              "0      281655   918193  2017-01-03 13:42:27.285433     new_page          1   \n",
              "1        7271   679658  2017-01-20 02:00:54.448676     new_page          1   \n",
              "2      269760   815158  2017-01-16 05:11:33.823264     new_page          1   \n",
              "3      158882   857307  2017-01-22 08:58:50.687626     new_page          1   \n",
              "4      153958   716896  2017-01-15 17:59:03.065352     new_page          1   \n",
              "\n",
              "       group  \n",
              "0  treatment  \n",
              "1  treatment  \n",
              "2  treatment  \n",
              "3  treatment  \n",
              "4  treatment  "
            ],
            "text/html": [
              "\n",
              "  <div id=\"df-69169d21-1faf-4cb4-878c-909c28810ed0\" class=\"colab-df-container\">\n",
              "    <div>\n",
              "<style scoped>\n",
              "    .dataframe tbody tr th:only-of-type {\n",
              "        vertical-align: middle;\n",
              "    }\n",
              "\n",
              "    .dataframe tbody tr th {\n",
              "        vertical-align: top;\n",
              "    }\n",
              "\n",
              "    .dataframe thead th {\n",
              "        text-align: right;\n",
              "    }\n",
              "</style>\n",
              "<table border=\"1\" class=\"dataframe\">\n",
              "  <thead>\n",
              "    <tr style=\"text-align: right;\">\n",
              "      <th></th>\n",
              "      <th>Unnamed: 0</th>\n",
              "      <th>user_id</th>\n",
              "      <th>timestamp</th>\n",
              "      <th>landing_page</th>\n",
              "      <th>converted</th>\n",
              "      <th>group</th>\n",
              "    </tr>\n",
              "  </thead>\n",
              "  <tbody>\n",
              "    <tr>\n",
              "      <th>0</th>\n",
              "      <td>281655</td>\n",
              "      <td>918193</td>\n",
              "      <td>2017-01-03 13:42:27.285433</td>\n",
              "      <td>new_page</td>\n",
              "      <td>1</td>\n",
              "      <td>treatment</td>\n",
              "    </tr>\n",
              "    <tr>\n",
              "      <th>1</th>\n",
              "      <td>7271</td>\n",
              "      <td>679658</td>\n",
              "      <td>2017-01-20 02:00:54.448676</td>\n",
              "      <td>new_page</td>\n",
              "      <td>1</td>\n",
              "      <td>treatment</td>\n",
              "    </tr>\n",
              "    <tr>\n",
              "      <th>2</th>\n",
              "      <td>269760</td>\n",
              "      <td>815158</td>\n",
              "      <td>2017-01-16 05:11:33.823264</td>\n",
              "      <td>new_page</td>\n",
              "      <td>1</td>\n",
              "      <td>treatment</td>\n",
              "    </tr>\n",
              "    <tr>\n",
              "      <th>3</th>\n",
              "      <td>158882</td>\n",
              "      <td>857307</td>\n",
              "      <td>2017-01-22 08:58:50.687626</td>\n",
              "      <td>new_page</td>\n",
              "      <td>1</td>\n",
              "      <td>treatment</td>\n",
              "    </tr>\n",
              "    <tr>\n",
              "      <th>4</th>\n",
              "      <td>153958</td>\n",
              "      <td>716896</td>\n",
              "      <td>2017-01-15 17:59:03.065352</td>\n",
              "      <td>new_page</td>\n",
              "      <td>1</td>\n",
              "      <td>treatment</td>\n",
              "    </tr>\n",
              "  </tbody>\n",
              "</table>\n",
              "</div>\n",
              "    <div class=\"colab-df-buttons\">\n",
              "\n",
              "  <div class=\"colab-df-container\">\n",
              "    <button class=\"colab-df-convert\" onclick=\"convertToInteractive('df-69169d21-1faf-4cb4-878c-909c28810ed0')\"\n",
              "            title=\"Convert this dataframe to an interactive table.\"\n",
              "            style=\"display:none;\">\n",
              "\n",
              "  <svg xmlns=\"http://www.w3.org/2000/svg\" height=\"24px\" viewBox=\"0 -960 960 960\">\n",
              "    <path d=\"M120-120v-720h720v720H120Zm60-500h600v-160H180v160Zm220 220h160v-160H400v160Zm0 220h160v-160H400v160ZM180-400h160v-160H180v160Zm440 0h160v-160H620v160ZM180-180h160v-160H180v160Zm440 0h160v-160H620v160Z\"/>\n",
              "  </svg>\n",
              "    </button>\n",
              "\n",
              "  <style>\n",
              "    .colab-df-container {\n",
              "      display:flex;\n",
              "      gap: 12px;\n",
              "    }\n",
              "\n",
              "    .colab-df-convert {\n",
              "      background-color: #E8F0FE;\n",
              "      border: none;\n",
              "      border-radius: 50%;\n",
              "      cursor: pointer;\n",
              "      display: none;\n",
              "      fill: #1967D2;\n",
              "      height: 32px;\n",
              "      padding: 0 0 0 0;\n",
              "      width: 32px;\n",
              "    }\n",
              "\n",
              "    .colab-df-convert:hover {\n",
              "      background-color: #E2EBFA;\n",
              "      box-shadow: 0px 1px 2px rgba(60, 64, 67, 0.3), 0px 1px 3px 1px rgba(60, 64, 67, 0.15);\n",
              "      fill: #174EA6;\n",
              "    }\n",
              "\n",
              "    .colab-df-buttons div {\n",
              "      margin-bottom: 4px;\n",
              "    }\n",
              "\n",
              "    [theme=dark] .colab-df-convert {\n",
              "      background-color: #3B4455;\n",
              "      fill: #D2E3FC;\n",
              "    }\n",
              "\n",
              "    [theme=dark] .colab-df-convert:hover {\n",
              "      background-color: #434B5C;\n",
              "      box-shadow: 0px 1px 3px 1px rgba(0, 0, 0, 0.15);\n",
              "      filter: drop-shadow(0px 1px 2px rgba(0, 0, 0, 0.3));\n",
              "      fill: #FFFFFF;\n",
              "    }\n",
              "  </style>\n",
              "\n",
              "    <script>\n",
              "      const buttonEl =\n",
              "        document.querySelector('#df-69169d21-1faf-4cb4-878c-909c28810ed0 button.colab-df-convert');\n",
              "      buttonEl.style.display =\n",
              "        google.colab.kernel.accessAllowed ? 'block' : 'none';\n",
              "\n",
              "      async function convertToInteractive(key) {\n",
              "        const element = document.querySelector('#df-69169d21-1faf-4cb4-878c-909c28810ed0');\n",
              "        const dataTable =\n",
              "          await google.colab.kernel.invokeFunction('convertToInteractive',\n",
              "                                                    [key], {});\n",
              "        if (!dataTable) return;\n",
              "\n",
              "        const docLinkHtml = 'Like what you see? Visit the ' +\n",
              "          '<a target=\"_blank\" href=https://colab.research.google.com/notebooks/data_table.ipynb>data table notebook</a>'\n",
              "          + ' to learn more about interactive tables.';\n",
              "        element.innerHTML = '';\n",
              "        dataTable['output_type'] = 'display_data';\n",
              "        await google.colab.output.renderOutput(dataTable, element);\n",
              "        const docLink = document.createElement('div');\n",
              "        docLink.innerHTML = docLinkHtml;\n",
              "        element.appendChild(docLink);\n",
              "      }\n",
              "    </script>\n",
              "  </div>\n",
              "\n",
              "\n",
              "<div id=\"df-27098a1d-4d57-4e89-aa74-22e11cc2b9b4\">\n",
              "  <button class=\"colab-df-quickchart\" onclick=\"quickchart('df-27098a1d-4d57-4e89-aa74-22e11cc2b9b4')\"\n",
              "            title=\"Suggest charts\"\n",
              "            style=\"display:none;\">\n",
              "\n",
              "<svg xmlns=\"http://www.w3.org/2000/svg\" height=\"24px\"viewBox=\"0 0 24 24\"\n",
              "     width=\"24px\">\n",
              "    <g>\n",
              "        <path d=\"M19 3H5c-1.1 0-2 .9-2 2v14c0 1.1.9 2 2 2h14c1.1 0 2-.9 2-2V5c0-1.1-.9-2-2-2zM9 17H7v-7h2v7zm4 0h-2V7h2v10zm4 0h-2v-4h2v4z\"/>\n",
              "    </g>\n",
              "</svg>\n",
              "  </button>\n",
              "\n",
              "<style>\n",
              "  .colab-df-quickchart {\n",
              "      --bg-color: #E8F0FE;\n",
              "      --fill-color: #1967D2;\n",
              "      --hover-bg-color: #E2EBFA;\n",
              "      --hover-fill-color: #174EA6;\n",
              "      --disabled-fill-color: #AAA;\n",
              "      --disabled-bg-color: #DDD;\n",
              "  }\n",
              "\n",
              "  [theme=dark] .colab-df-quickchart {\n",
              "      --bg-color: #3B4455;\n",
              "      --fill-color: #D2E3FC;\n",
              "      --hover-bg-color: #434B5C;\n",
              "      --hover-fill-color: #FFFFFF;\n",
              "      --disabled-bg-color: #3B4455;\n",
              "      --disabled-fill-color: #666;\n",
              "  }\n",
              "\n",
              "  .colab-df-quickchart {\n",
              "    background-color: var(--bg-color);\n",
              "    border: none;\n",
              "    border-radius: 50%;\n",
              "    cursor: pointer;\n",
              "    display: none;\n",
              "    fill: var(--fill-color);\n",
              "    height: 32px;\n",
              "    padding: 0;\n",
              "    width: 32px;\n",
              "  }\n",
              "\n",
              "  .colab-df-quickchart:hover {\n",
              "    background-color: var(--hover-bg-color);\n",
              "    box-shadow: 0 1px 2px rgba(60, 64, 67, 0.3), 0 1px 3px 1px rgba(60, 64, 67, 0.15);\n",
              "    fill: var(--button-hover-fill-color);\n",
              "  }\n",
              "\n",
              "  .colab-df-quickchart-complete:disabled,\n",
              "  .colab-df-quickchart-complete:disabled:hover {\n",
              "    background-color: var(--disabled-bg-color);\n",
              "    fill: var(--disabled-fill-color);\n",
              "    box-shadow: none;\n",
              "  }\n",
              "\n",
              "  .colab-df-spinner {\n",
              "    border: 2px solid var(--fill-color);\n",
              "    border-color: transparent;\n",
              "    border-bottom-color: var(--fill-color);\n",
              "    animation:\n",
              "      spin 1s steps(1) infinite;\n",
              "  }\n",
              "\n",
              "  @keyframes spin {\n",
              "    0% {\n",
              "      border-color: transparent;\n",
              "      border-bottom-color: var(--fill-color);\n",
              "      border-left-color: var(--fill-color);\n",
              "    }\n",
              "    20% {\n",
              "      border-color: transparent;\n",
              "      border-left-color: var(--fill-color);\n",
              "      border-top-color: var(--fill-color);\n",
              "    }\n",
              "    30% {\n",
              "      border-color: transparent;\n",
              "      border-left-color: var(--fill-color);\n",
              "      border-top-color: var(--fill-color);\n",
              "      border-right-color: var(--fill-color);\n",
              "    }\n",
              "    40% {\n",
              "      border-color: transparent;\n",
              "      border-right-color: var(--fill-color);\n",
              "      border-top-color: var(--fill-color);\n",
              "    }\n",
              "    60% {\n",
              "      border-color: transparent;\n",
              "      border-right-color: var(--fill-color);\n",
              "    }\n",
              "    80% {\n",
              "      border-color: transparent;\n",
              "      border-right-color: var(--fill-color);\n",
              "      border-bottom-color: var(--fill-color);\n",
              "    }\n",
              "    90% {\n",
              "      border-color: transparent;\n",
              "      border-bottom-color: var(--fill-color);\n",
              "    }\n",
              "  }\n",
              "</style>\n",
              "\n",
              "  <script>\n",
              "    async function quickchart(key) {\n",
              "      const quickchartButtonEl =\n",
              "        document.querySelector('#' + key + ' button');\n",
              "      quickchartButtonEl.disabled = true;  // To prevent multiple clicks.\n",
              "      quickchartButtonEl.classList.add('colab-df-spinner');\n",
              "      try {\n",
              "        const charts = await google.colab.kernel.invokeFunction(\n",
              "            'suggestCharts', [key], {});\n",
              "      } catch (error) {\n",
              "        console.error('Error during call to suggestCharts:', error);\n",
              "      }\n",
              "      quickchartButtonEl.classList.remove('colab-df-spinner');\n",
              "      quickchartButtonEl.classList.add('colab-df-quickchart-complete');\n",
              "    }\n",
              "    (() => {\n",
              "      let quickchartButtonEl =\n",
              "        document.querySelector('#df-27098a1d-4d57-4e89-aa74-22e11cc2b9b4 button');\n",
              "      quickchartButtonEl.style.display =\n",
              "        google.colab.kernel.accessAllowed ? 'block' : 'none';\n",
              "    })();\n",
              "  </script>\n",
              "</div>\n",
              "\n",
              "    </div>\n",
              "  </div>\n"
            ],
            "application/vnd.google.colaboratory.intrinsic+json": {
              "type": "dataframe",
              "variable_name": "df",
              "summary": "{\n  \"name\": \"df\",\n  \"rows\": 5636,\n  \"fields\": [\n    {\n      \"column\": \"Unnamed: 0\",\n      \"properties\": {\n        \"dtype\": \"number\",\n        \"std\": 95263,\n        \"min\": 0,\n        \"max\": 294339,\n        \"num_unique_values\": 5611,\n        \"samples\": [\n          2358,\n          1393,\n          47218\n        ],\n        \"semantic_type\": \"\",\n        \"description\": \"\"\n      }\n    },\n    {\n      \"column\": \"user_id\",\n      \"properties\": {\n        \"dtype\": \"number\",\n        \"std\": 91351,\n        \"min\": 630006,\n        \"max\": 945982,\n        \"num_unique_values\": 5633,\n        \"samples\": [\n          884571,\n          744246,\n          714872\n        ],\n        \"semantic_type\": \"\",\n        \"description\": \"\"\n      }\n    },\n    {\n      \"column\": \"timestamp\",\n      \"properties\": {\n        \"dtype\": \"object\",\n        \"num_unique_values\": 5636,\n        \"samples\": [\n          \"2017-01-07 10:13:58.864329\",\n          \"2017-01-05 12:12:28.459272\",\n          \"2017-01-08 20:10:14.086137\"\n        ],\n        \"semantic_type\": \"\",\n        \"description\": \"\"\n      }\n    },\n    {\n      \"column\": \"landing_page\",\n      \"properties\": {\n        \"dtype\": \"category\",\n        \"num_unique_values\": 2,\n        \"samples\": [\n          \"old_page\",\n          \"new_page\"\n        ],\n        \"semantic_type\": \"\",\n        \"description\": \"\"\n      }\n    },\n    {\n      \"column\": \"converted\",\n      \"properties\": {\n        \"dtype\": \"number\",\n        \"std\": 0,\n        \"min\": 0,\n        \"max\": 1,\n        \"num_unique_values\": 2,\n        \"samples\": [\n          0,\n          1\n        ],\n        \"semantic_type\": \"\",\n        \"description\": \"\"\n      }\n    },\n    {\n      \"column\": \"group\",\n      \"properties\": {\n        \"dtype\": \"category\",\n        \"num_unique_values\": 2,\n        \"samples\": [\n          \"control\",\n          \"treatment\"\n        ],\n        \"semantic_type\": \"\",\n        \"description\": \"\"\n      }\n    }\n  ]\n}"
            }
          },
          "metadata": {},
          "execution_count": 3
        }
      ]
    },
    {
      "cell_type": "code",
      "source": [
        "df.columns"
      ],
      "metadata": {
        "id": "JErimkZcY2kH",
        "colab": {
          "base_uri": "https://localhost:8080/"
        },
        "outputId": "44fd452d-83ef-461b-d44c-c126613d6e4d"
      },
      "execution_count": null,
      "outputs": [
        {
          "output_type": "execute_result",
          "data": {
            "text/plain": [
              "Index(['Unnamed: 0', 'user_id', 'timestamp', 'landing_page', 'converted',\n",
              "       'group'],\n",
              "      dtype='object')"
            ]
          },
          "metadata": {},
          "execution_count": 4
        }
      ]
    },
    {
      "cell_type": "markdown",
      "source": [
        "# Criando dois conjuntos de dados para separar os grupos (Controle versus Tratamento)"
      ],
      "metadata": {
        "id": "PxJlVLWHs3eJ"
      }
    },
    {
      "cell_type": "code",
      "source": [
        "grupo_tratamento = df[df.group == 'treatment'] # grupo tratamento\n",
        "grupo_controle = df[df.group == 'control'] #grupo controle"
      ],
      "metadata": {
        "id": "Y4HMxa66-mll"
      },
      "execution_count": null,
      "outputs": []
    },
    {
      "cell_type": "code",
      "source": [
        "# calculando a taxa de conversão para cada grupo (conversão = n° de pessoas que compraram o produto vs total de pessoas que entraram no site)\n",
        "\n",
        "conversao_tratamento = grupo_tratamento[grupo_tratamento.converted == 1].user_id.count()/grupo_tratamento.user_id.count()\n",
        "\n",
        "conversao_controle = grupo_controle[grupo_controle.converted == 1].user_id.count()/grupo_controle.user_id.count()\n",
        "\n",
        "print(\"A taxa de conversão do grupo tratamento é:\", conversao_tratamento)\n",
        "print(\"A taxa de conversão do grupo controle é:\", conversao_controle)"
      ],
      "metadata": {
        "colab": {
          "base_uri": "https://localhost:8080/"
        },
        "id": "oaHOJTWmAJO-",
        "outputId": "fe2a1eb3-f5d3-41cd-c1f7-5e6231561fd9"
      },
      "execution_count": null,
      "outputs": [
        {
          "output_type": "stream",
          "name": "stdout",
          "text": [
            "A taxa de conversão do grupo tratamento é: 0.18985095812633074\n",
            "A taxa de conversão do grupo controle é: 0.12455642299503193\n"
          ]
        }
      ]
    },
    {
      "cell_type": "markdown",
      "source": [
        "Aparentemente, houve uma melhora na média entre os dois grupos (Controle 12% e Tratamento 18%). Mas, será que essa melhora é estatisticamente significativa?"
      ],
      "metadata": {
        "id": "iUSnEWSqCFrl"
      }
    },
    {
      "cell_type": "markdown",
      "source": [
        "# Escolhendo o teste de hipótese adequado ao problema"
      ],
      "metadata": {
        "id": "RvfKWfIzuR6d"
      }
    },
    {
      "cell_type": "markdown",
      "source": [
        "Como estamos lidando com 2 amostras e proporção, utilizaremos o teste de comparação de proporções."
      ],
      "metadata": {
        "id": "uUjp4J7duWD-"
      }
    },
    {
      "cell_type": "code",
      "source": [
        "from statsmodels.stats.proportion import proportions_ztest, proportion_confint\n",
        "# proportions_ztest - aplicará o teste\n",
        "# proportion_confint - utilizado para calcular o intervalo de confiança"
      ],
      "metadata": {
        "id": "Lh7nfkguCLgO"
      },
      "execution_count": null,
      "outputs": []
    },
    {
      "cell_type": "code",
      "source": [
        "resultado_controle = grupo_controle['converted']\n",
        "resultado_tratamento = grupo_tratamento['converted']\n",
        "\n",
        "# Criando uma lista com os sucessos\n",
        "sucessos = [resultado_controle.sum(), resultado_tratamento.sum()]\n",
        "\n",
        "# total de usuários\n",
        "n_controle = grupo_controle.user_id.count()\n",
        "n_tratamento = grupo_tratamento.user_id.count()\n",
        "nobs = [n_controle, n_tratamento]\n",
        "\n",
        "# Z_test\n",
        "proportions_ztest(sucessos, nobs) #valor z e o p-valor"
      ],
      "metadata": {
        "colab": {
          "base_uri": "https://localhost:8080/"
        },
        "id": "QxoWcIytCj1e",
        "outputId": "6959e3af-4f38-4ddd-f84c-b0be895fde13"
      },
      "execution_count": null,
      "outputs": [
        {
          "output_type": "execute_result",
          "data": {
            "text/plain": [
              "(-6.733481162342496, 1.6565111652777357e-11)"
            ]
          },
          "metadata": {},
          "execution_count": 7
        }
      ]
    },
    {
      "cell_type": "markdown",
      "source": [
        "Nosso teste foi bilateral com 95% de confiança e 5% de significância, resultando em 2,5% em cada cauda. A zona de rejeição é z < -1.96 e z > 1.96. O valor de z obtido foi de -6.73, rejeitando assim a hipótese nula de que as proporções são iguais.\n",
        "\n",
        "Há também a possibilidade de avaliar o valor-p, que, neste caso, foi muito inferior a 5%, rejeitando a hipótese nula de que as proporções são iguais.\n",
        "\n"
      ],
      "metadata": {
        "id": "lUYjnDI4F8vD"
      }
    },
    {
      "cell_type": "markdown",
      "source": [
        "\n",
        "# Intervalo de confiança entre as amostras."
      ],
      "metadata": {
        "id": "HyU2Z5ZRpo68"
      }
    },
    {
      "cell_type": "code",
      "source": [
        "(inferior_controle, inferior_tratamento), (superior_controle, superior_tratamento) = proportion_confint(sucessos, nobs=nobs, alpha=0.05)\n",
        "\n",
        "print(f'intervalo de confiança 95% para o grupo controle: [{inferior_controle:.3f}, {superior_controle:.3f}]')\n",
        "print(f'intervalo de confiança 95% para o grupo tratamento: [{inferior_tratamento:.3f}, {superior_tratamento:.3f}]')"
      ],
      "metadata": {
        "colab": {
          "base_uri": "https://localhost:8080/"
        },
        "id": "WiyJDiTNoySN",
        "outputId": "84bb3a0b-e295-46ab-c019-3f440792e472"
      },
      "execution_count": null,
      "outputs": [
        {
          "output_type": "stream",
          "name": "stdout",
          "text": [
            "intervalo de confiança 95% para o grupo controle: [0.112, 0.137]\n",
            "intervalo de confiança 95% para o grupo tratamento: [0.175, 0.204]\n"
          ]
        }
      ]
    },
    {
      "cell_type": "markdown",
      "source": [
        "Existe um distanciamento significativo entre os intervalos de confiança das proporções nos dois grupos (não há overlap entre eles). Isso sugere que, com 95% de confiança, as proporções populacionais nos grupos controle e tratamento são estatisticamente diferentes."
      ],
      "metadata": {
        "id": "Bh73uRJ4ro24"
      }
    }
  ]
}